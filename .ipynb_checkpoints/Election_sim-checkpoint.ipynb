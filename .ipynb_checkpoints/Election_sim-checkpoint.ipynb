{
 "cells": [
  {
   "cell_type": "markdown",
   "metadata": {},
   "source": [
    "![election_prediction](http://donsnotes.com/politics/images/clinton-trump-rating.png)"
   ]
  },
  {
   "cell_type": "markdown",
   "metadata": {},
   "source": [
    "# What makes a good prediction?\n",
    "\n",
    " we'll focus on evaluating the quality of election predictions made by the website [fivethirtyeight.com](https://www.fivethirtyeight.com).  As one prominent example, fivethirtyeight predicted that Clinton had a 70.9% chance to win the election.  Was their model wrong?\n",
    "\n",
    "To gain insight into questions like this, we'll focus on  [US House elections predictions from 2018](https://projects.fivethirtyeight.com/2018-midterm-election-forecast/house/).  Their predictions are based predominantly on polling data but include other sources as well (state of the economy, overall favoriability of politic parties, etc).  \n",
    "\n",
    "This homework is based loosely on [this article](https://projects.fivethirtyeight.com/checking-our-work/).  Please read the article before beginning the assignment.\n"
   ]
  },
  {
   "cell_type": "code",
   "execution_count": 8,
   "metadata": {
    "ExecuteTime": {
     "end_time": "2019-08-23T08:18:58.439387Z",
     "start_time": "2019-08-23T08:18:55.250604Z"
    }
   },
   "outputs": [
    {
     "data": {
      "text/html": [
       "<div>\n",
       "<style scoped>\n",
       "    .dataframe tbody tr th:only-of-type {\n",
       "        vertical-align: middle;\n",
       "    }\n",
       "\n",
       "    .dataframe tbody tr th {\n",
       "        vertical-align: top;\n",
       "    }\n",
       "\n",
       "    .dataframe thead th {\n",
       "        text-align: right;\n",
       "    }\n",
       "</style>\n",
       "<table border=\"1\" class=\"dataframe\">\n",
       "  <thead>\n",
       "    <tr style=\"text-align: right;\">\n",
       "      <th></th>\n",
       "      <th>year</th>\n",
       "      <th>district</th>\n",
       "      <th>projected_voteshare</th>\n",
       "      <th>actual_voteshare</th>\n",
       "      <th>probwin</th>\n",
       "      <th>probwin_outcome</th>\n",
       "    </tr>\n",
       "  </thead>\n",
       "  <tbody>\n",
       "    <tr>\n",
       "      <th>count</th>\n",
       "      <td>284020.000000</td>\n",
       "      <td>283568.000000</td>\n",
       "      <td>282693.000000</td>\n",
       "      <td>0.0</td>\n",
       "      <td>284020.000000</td>\n",
       "      <td>284020.000000</td>\n",
       "    </tr>\n",
       "    <tr>\n",
       "      <th>mean</th>\n",
       "      <td>2017.975298</td>\n",
       "      <td>9.895390</td>\n",
       "      <td>44.783396</td>\n",
       "      <td>NaN</td>\n",
       "      <td>0.451577</td>\n",
       "      <td>0.451577</td>\n",
       "    </tr>\n",
       "    <tr>\n",
       "      <th>std</th>\n",
       "      <td>0.443858</td>\n",
       "      <td>10.459199</td>\n",
       "      <td>23.718118</td>\n",
       "      <td>NaN</td>\n",
       "      <td>0.454567</td>\n",
       "      <td>0.497651</td>\n",
       "    </tr>\n",
       "    <tr>\n",
       "      <th>min</th>\n",
       "      <td>2010.000000</td>\n",
       "      <td>1.000000</td>\n",
       "      <td>0.000000</td>\n",
       "      <td>NaN</td>\n",
       "      <td>0.000000</td>\n",
       "      <td>0.000000</td>\n",
       "    </tr>\n",
       "    <tr>\n",
       "      <th>25%</th>\n",
       "      <td>2018.000000</td>\n",
       "      <td>3.000000</td>\n",
       "      <td>29.741930</td>\n",
       "      <td>NaN</td>\n",
       "      <td>0.000240</td>\n",
       "      <td>0.000000</td>\n",
       "    </tr>\n",
       "    <tr>\n",
       "      <th>50%</th>\n",
       "      <td>2018.000000</td>\n",
       "      <td>6.000000</td>\n",
       "      <td>46.570200</td>\n",
       "      <td>NaN</td>\n",
       "      <td>0.242640</td>\n",
       "      <td>0.000000</td>\n",
       "    </tr>\n",
       "    <tr>\n",
       "      <th>75%</th>\n",
       "      <td>2018.000000</td>\n",
       "      <td>13.000000</td>\n",
       "      <td>61.962020</td>\n",
       "      <td>NaN</td>\n",
       "      <td>0.995720</td>\n",
       "      <td>1.000000</td>\n",
       "    </tr>\n",
       "    <tr>\n",
       "      <th>max</th>\n",
       "      <td>2018.000000</td>\n",
       "      <td>53.000000</td>\n",
       "      <td>100.000000</td>\n",
       "      <td>NaN</td>\n",
       "      <td>1.000000</td>\n",
       "      <td>1.000000</td>\n",
       "    </tr>\n",
       "  </tbody>\n",
       "</table>\n",
       "</div>"
      ],
      "text/plain": [
       "                year       district  projected_voteshare  actual_voteshare  \\\n",
       "count  284020.000000  283568.000000        282693.000000               0.0   \n",
       "mean     2017.975298       9.895390            44.783396               NaN   \n",
       "std         0.443858      10.459199            23.718118               NaN   \n",
       "min      2010.000000       1.000000             0.000000               NaN   \n",
       "25%      2018.000000       3.000000            29.741930               NaN   \n",
       "50%      2018.000000       6.000000            46.570200               NaN   \n",
       "75%      2018.000000      13.000000            61.962020               NaN   \n",
       "max      2018.000000      53.000000           100.000000               NaN   \n",
       "\n",
       "             probwin  probwin_outcome  \n",
       "count  284020.000000    284020.000000  \n",
       "mean        0.451577         0.451577  \n",
       "std         0.454567         0.497651  \n",
       "min         0.000000         0.000000  \n",
       "25%         0.000240         0.000000  \n",
       "50%         0.242640         0.000000  \n",
       "75%         0.995720         1.000000  \n",
       "max         1.000000         1.000000  "
      ]
     },
     "execution_count": 8,
     "metadata": {},
     "output_type": "execute_result"
    }
   ],
   "source": [
    "import pandas as pd ## call pandas functions using \"pd\"\n",
    "import numpy as np  ## call numpy functions using \"np\"\n",
    "election_data = pd.read_csv(\"us_house_elections.csv\")\n",
    "\n",
    "election_data.describe()"
   ]
  },
  {
   "cell_type": "markdown",
   "metadata": {},
   "source": [
    "## Examining the Data\n",
    "\n",
    "Display the first 10 rows of the dataset using `iloc`."
   ]
  },
  {
   "cell_type": "code",
   "execution_count": 9,
   "metadata": {
    "ExecuteTime": {
     "end_time": "2019-08-23T08:18:59.106508Z",
     "start_time": "2019-08-23T08:18:59.054924Z"
    }
   },
   "outputs": [
    {
     "data": {
      "text/html": [
       "<div>\n",
       "<style scoped>\n",
       "    .dataframe tbody tr th:only-of-type {\n",
       "        vertical-align: middle;\n",
       "    }\n",
       "\n",
       "    .dataframe tbody tr th {\n",
       "        vertical-align: top;\n",
       "    }\n",
       "\n",
       "    .dataframe thead th {\n",
       "        text-align: right;\n",
       "    }\n",
       "</style>\n",
       "<table border=\"1\" class=\"dataframe\">\n",
       "  <thead>\n",
       "    <tr style=\"text-align: right;\">\n",
       "      <th></th>\n",
       "      <th>year</th>\n",
       "      <th>office</th>\n",
       "      <th>state</th>\n",
       "      <th>district</th>\n",
       "      <th>special</th>\n",
       "      <th>election_date</th>\n",
       "      <th>forecast_date</th>\n",
       "      <th>forecast_type</th>\n",
       "      <th>party</th>\n",
       "      <th>candidate</th>\n",
       "      <th>projected_voteshare</th>\n",
       "      <th>actual_voteshare</th>\n",
       "      <th>probwin</th>\n",
       "      <th>probwin_outcome</th>\n",
       "    </tr>\n",
       "  </thead>\n",
       "  <tbody>\n",
       "    <tr>\n",
       "      <th>1</th>\n",
       "      <td>2018</td>\n",
       "      <td>House</td>\n",
       "      <td>WY</td>\n",
       "      <td>1.0</td>\n",
       "      <td>False</td>\n",
       "      <td>2018-11-06</td>\n",
       "      <td>2018-11-06</td>\n",
       "      <td>lite</td>\n",
       "      <td>R</td>\n",
       "      <td>Liz Cheney</td>\n",
       "      <td>61.18835</td>\n",
       "      <td>NaN</td>\n",
       "      <td>0.99866</td>\n",
       "      <td>1</td>\n",
       "    </tr>\n",
       "    <tr>\n",
       "      <th>2</th>\n",
       "      <td>2018</td>\n",
       "      <td>House</td>\n",
       "      <td>WY</td>\n",
       "      <td>1.0</td>\n",
       "      <td>False</td>\n",
       "      <td>2018-11-06</td>\n",
       "      <td>2018-11-06</td>\n",
       "      <td>deluxe</td>\n",
       "      <td>D</td>\n",
       "      <td>Greg Hunter</td>\n",
       "      <td>31.37998</td>\n",
       "      <td>NaN</td>\n",
       "      <td>0.00020</td>\n",
       "      <td>0</td>\n",
       "    </tr>\n",
       "    <tr>\n",
       "      <th>3</th>\n",
       "      <td>2018</td>\n",
       "      <td>House</td>\n",
       "      <td>WY</td>\n",
       "      <td>1.0</td>\n",
       "      <td>False</td>\n",
       "      <td>2018-11-06</td>\n",
       "      <td>2018-11-06</td>\n",
       "      <td>deluxe</td>\n",
       "      <td>R</td>\n",
       "      <td>Liz Cheney</td>\n",
       "      <td>63.10673</td>\n",
       "      <td>NaN</td>\n",
       "      <td>0.99980</td>\n",
       "      <td>1</td>\n",
       "    </tr>\n",
       "    <tr>\n",
       "      <th>4</th>\n",
       "      <td>2018</td>\n",
       "      <td>House</td>\n",
       "      <td>WY</td>\n",
       "      <td>1.0</td>\n",
       "      <td>False</td>\n",
       "      <td>2018-11-06</td>\n",
       "      <td>2018-11-06</td>\n",
       "      <td>classic</td>\n",
       "      <td>D</td>\n",
       "      <td>Greg Hunter</td>\n",
       "      <td>31.33293</td>\n",
       "      <td>NaN</td>\n",
       "      <td>0.00032</td>\n",
       "      <td>0</td>\n",
       "    </tr>\n",
       "    <tr>\n",
       "      <th>5</th>\n",
       "      <td>2018</td>\n",
       "      <td>House</td>\n",
       "      <td>WY</td>\n",
       "      <td>1.0</td>\n",
       "      <td>False</td>\n",
       "      <td>2018-11-06</td>\n",
       "      <td>2018-11-06</td>\n",
       "      <td>classic</td>\n",
       "      <td>R</td>\n",
       "      <td>Liz Cheney</td>\n",
       "      <td>63.15379</td>\n",
       "      <td>NaN</td>\n",
       "      <td>0.99968</td>\n",
       "      <td>1</td>\n",
       "    </tr>\n",
       "    <tr>\n",
       "      <th>6</th>\n",
       "      <td>2018</td>\n",
       "      <td>House</td>\n",
       "      <td>WV</td>\n",
       "      <td>3.0</td>\n",
       "      <td>False</td>\n",
       "      <td>2018-11-06</td>\n",
       "      <td>2018-11-06</td>\n",
       "      <td>lite</td>\n",
       "      <td>D</td>\n",
       "      <td>Richard Neece Ojeda</td>\n",
       "      <td>47.56779</td>\n",
       "      <td>NaN</td>\n",
       "      <td>0.27966</td>\n",
       "      <td>0</td>\n",
       "    </tr>\n",
       "    <tr>\n",
       "      <th>7</th>\n",
       "      <td>2018</td>\n",
       "      <td>House</td>\n",
       "      <td>WV</td>\n",
       "      <td>3.0</td>\n",
       "      <td>False</td>\n",
       "      <td>2018-11-06</td>\n",
       "      <td>2018-11-06</td>\n",
       "      <td>lite</td>\n",
       "      <td>R</td>\n",
       "      <td>Carol Devine Miller</td>\n",
       "      <td>52.43221</td>\n",
       "      <td>NaN</td>\n",
       "      <td>0.72034</td>\n",
       "      <td>1</td>\n",
       "    </tr>\n",
       "    <tr>\n",
       "      <th>8</th>\n",
       "      <td>2018</td>\n",
       "      <td>House</td>\n",
       "      <td>WV</td>\n",
       "      <td>3.0</td>\n",
       "      <td>False</td>\n",
       "      <td>2018-11-06</td>\n",
       "      <td>2018-11-06</td>\n",
       "      <td>deluxe</td>\n",
       "      <td>D</td>\n",
       "      <td>Richard Neece Ojeda</td>\n",
       "      <td>45.14111</td>\n",
       "      <td>NaN</td>\n",
       "      <td>0.09662</td>\n",
       "      <td>0</td>\n",
       "    </tr>\n",
       "    <tr>\n",
       "      <th>9</th>\n",
       "      <td>2018</td>\n",
       "      <td>House</td>\n",
       "      <td>WV</td>\n",
       "      <td>3.0</td>\n",
       "      <td>False</td>\n",
       "      <td>2018-11-06</td>\n",
       "      <td>2018-11-06</td>\n",
       "      <td>deluxe</td>\n",
       "      <td>R</td>\n",
       "      <td>Carol Devine Miller</td>\n",
       "      <td>54.85889</td>\n",
       "      <td>NaN</td>\n",
       "      <td>0.90338</td>\n",
       "      <td>1</td>\n",
       "    </tr>\n",
       "  </tbody>\n",
       "</table>\n",
       "</div>"
      ],
      "text/plain": [
       "   year office state  district special election_date forecast_date  \\\n",
       "1  2018  House    WY       1.0   False    2018-11-06    2018-11-06   \n",
       "2  2018  House    WY       1.0   False    2018-11-06    2018-11-06   \n",
       "3  2018  House    WY       1.0   False    2018-11-06    2018-11-06   \n",
       "4  2018  House    WY       1.0   False    2018-11-06    2018-11-06   \n",
       "5  2018  House    WY       1.0   False    2018-11-06    2018-11-06   \n",
       "6  2018  House    WV       3.0   False    2018-11-06    2018-11-06   \n",
       "7  2018  House    WV       3.0   False    2018-11-06    2018-11-06   \n",
       "8  2018  House    WV       3.0   False    2018-11-06    2018-11-06   \n",
       "9  2018  House    WV       3.0   False    2018-11-06    2018-11-06   \n",
       "\n",
       "  forecast_type party            candidate  projected_voteshare  \\\n",
       "1          lite     R           Liz Cheney             61.18835   \n",
       "2        deluxe     D          Greg Hunter             31.37998   \n",
       "3        deluxe     R           Liz Cheney             63.10673   \n",
       "4       classic     D          Greg Hunter             31.33293   \n",
       "5       classic     R           Liz Cheney             63.15379   \n",
       "6          lite     D  Richard Neece Ojeda             47.56779   \n",
       "7          lite     R  Carol Devine Miller             52.43221   \n",
       "8        deluxe     D  Richard Neece Ojeda             45.14111   \n",
       "9        deluxe     R  Carol Devine Miller             54.85889   \n",
       "\n",
       "   actual_voteshare  probwin  probwin_outcome  \n",
       "1               NaN  0.99866                1  \n",
       "2               NaN  0.00020                0  \n",
       "3               NaN  0.99980                1  \n",
       "4               NaN  0.00032                0  \n",
       "5               NaN  0.99968                1  \n",
       "6               NaN  0.27966                0  \n",
       "7               NaN  0.72034                1  \n",
       "8               NaN  0.09662                0  \n",
       "9               NaN  0.90338                1  "
      ]
     },
     "execution_count": 9,
     "metadata": {},
     "output_type": "execute_result"
    }
   ],
   "source": [
    "rows=election_data.iloc[1:10]\n",
    "rows\n"
   ]
  },
  {
   "cell_type": "markdown",
   "metadata": {},
   "source": [
    "Fivethirtyeight has three different prediction models: `lite`, `classic` and `deluxe`, which roughly incorporate an increasing number of assumptions.  In this assignment lets focus on evaluting the quality of the `classic` predictions.  You can read more about how the prediction models work [here](https://fivethirtyeight.com/methodology/how-fivethirtyeights-house-and-senate-models-work/).\n",
    "\n",
    "Fivethirtyeight continuously updated their predictions as more polling data became available for each of the races.  Let's focus on the predictions a few months before the election, on August 11th, and on the morning of election day, November 6th.  \n",
    "\n",
    "### Question 1\n",
    "\n",
    "Create a new pandas dataframe called `election_sub` by filtering to include only rows in which the `forecast_type` is \"classic\", and the date of the foreceast (`forecast_date`) is 8/11 or 11/6."
   ]
  },
  {
   "cell_type": "markdown",
   "metadata": {
    "deletable": false,
    "editable": false
   },
   "source": [
    "<!--\n",
    "BEGIN QUESTION\n",
    "name: q1\n",
    "manual: false\n",
    "points: 2\n",
    "-->"
   ]
  },
  {
   "cell_type": "code",
   "execution_count": 10,
   "metadata": {
    "ExecuteTime": {
     "end_time": "2019-08-23T08:19:36.673489Z",
     "start_time": "2019-08-23T08:19:36.540559Z"
    }
   },
   "outputs": [
    {
     "data": {
      "text/html": [
       "<div>\n",
       "<style scoped>\n",
       "    .dataframe tbody tr th:only-of-type {\n",
       "        vertical-align: middle;\n",
       "    }\n",
       "\n",
       "    .dataframe tbody tr th {\n",
       "        vertical-align: top;\n",
       "    }\n",
       "\n",
       "    .dataframe thead th {\n",
       "        text-align: right;\n",
       "    }\n",
       "</style>\n",
       "<table border=\"1\" class=\"dataframe\">\n",
       "  <thead>\n",
       "    <tr style=\"text-align: right;\">\n",
       "      <th></th>\n",
       "      <th>year</th>\n",
       "      <th>office</th>\n",
       "      <th>state</th>\n",
       "      <th>district</th>\n",
       "      <th>special</th>\n",
       "      <th>election_date</th>\n",
       "      <th>forecast_date</th>\n",
       "      <th>forecast_type</th>\n",
       "      <th>party</th>\n",
       "      <th>candidate</th>\n",
       "      <th>projected_voteshare</th>\n",
       "      <th>actual_voteshare</th>\n",
       "      <th>probwin</th>\n",
       "      <th>probwin_outcome</th>\n",
       "    </tr>\n",
       "  </thead>\n",
       "  <tbody>\n",
       "    <tr>\n",
       "      <th>250984</th>\n",
       "      <td>2018</td>\n",
       "      <td>House</td>\n",
       "      <td>WY</td>\n",
       "      <td>1.0</td>\n",
       "      <td>False</td>\n",
       "      <td>2018-11-06</td>\n",
       "      <td>2018-08-11</td>\n",
       "      <td>classic</td>\n",
       "      <td>D</td>\n",
       "      <td>Greg Hunter</td>\n",
       "      <td>29.00343</td>\n",
       "      <td>NaN</td>\n",
       "      <td>0.00014</td>\n",
       "      <td>0</td>\n",
       "    </tr>\n",
       "    <tr>\n",
       "      <th>250985</th>\n",
       "      <td>2018</td>\n",
       "      <td>House</td>\n",
       "      <td>WY</td>\n",
       "      <td>1.0</td>\n",
       "      <td>False</td>\n",
       "      <td>2018-11-06</td>\n",
       "      <td>2018-08-11</td>\n",
       "      <td>classic</td>\n",
       "      <td>R</td>\n",
       "      <td>Liz Cheney</td>\n",
       "      <td>66.03905</td>\n",
       "      <td>NaN</td>\n",
       "      <td>0.99986</td>\n",
       "      <td>1</td>\n",
       "    </tr>\n",
       "    <tr>\n",
       "      <th>250990</th>\n",
       "      <td>2018</td>\n",
       "      <td>House</td>\n",
       "      <td>WV</td>\n",
       "      <td>3.0</td>\n",
       "      <td>False</td>\n",
       "      <td>2018-11-06</td>\n",
       "      <td>2018-08-11</td>\n",
       "      <td>classic</td>\n",
       "      <td>D</td>\n",
       "      <td>Richard Neece Ojeda</td>\n",
       "      <td>41.90380</td>\n",
       "      <td>NaN</td>\n",
       "      <td>0.06242</td>\n",
       "      <td>0</td>\n",
       "    </tr>\n",
       "    <tr>\n",
       "      <th>250991</th>\n",
       "      <td>2018</td>\n",
       "      <td>House</td>\n",
       "      <td>WV</td>\n",
       "      <td>3.0</td>\n",
       "      <td>False</td>\n",
       "      <td>2018-11-06</td>\n",
       "      <td>2018-08-11</td>\n",
       "      <td>classic</td>\n",
       "      <td>R</td>\n",
       "      <td>Carol Devine Miller</td>\n",
       "      <td>58.09620</td>\n",
       "      <td>NaN</td>\n",
       "      <td>0.93758</td>\n",
       "      <td>1</td>\n",
       "    </tr>\n",
       "    <tr>\n",
       "      <th>250998</th>\n",
       "      <td>2018</td>\n",
       "      <td>House</td>\n",
       "      <td>WV</td>\n",
       "      <td>2.0</td>\n",
       "      <td>False</td>\n",
       "      <td>2018-11-06</td>\n",
       "      <td>2018-08-11</td>\n",
       "      <td>classic</td>\n",
       "      <td>D</td>\n",
       "      <td>Talley Sergent</td>\n",
       "      <td>41.22386</td>\n",
       "      <td>NaN</td>\n",
       "      <td>0.03474</td>\n",
       "      <td>0</td>\n",
       "    </tr>\n",
       "  </tbody>\n",
       "</table>\n",
       "</div>"
      ],
      "text/plain": [
       "        year office state  district special election_date forecast_date  \\\n",
       "250984  2018  House    WY       1.0   False    2018-11-06    2018-08-11   \n",
       "250985  2018  House    WY       1.0   False    2018-11-06    2018-08-11   \n",
       "250990  2018  House    WV       3.0   False    2018-11-06    2018-08-11   \n",
       "250991  2018  House    WV       3.0   False    2018-11-06    2018-08-11   \n",
       "250998  2018  House    WV       2.0   False    2018-11-06    2018-08-11   \n",
       "\n",
       "       forecast_type party            candidate  projected_voteshare  \\\n",
       "250984       classic     D          Greg Hunter             29.00343   \n",
       "250985       classic     R           Liz Cheney             66.03905   \n",
       "250990       classic     D  Richard Neece Ojeda             41.90380   \n",
       "250991       classic     R  Carol Devine Miller             58.09620   \n",
       "250998       classic     D       Talley Sergent             41.22386   \n",
       "\n",
       "        actual_voteshare  probwin  probwin_outcome  \n",
       "250984               NaN  0.00014                0  \n",
       "250985               NaN  0.99986                1  \n",
       "250990               NaN  0.06242                0  \n",
       "250991               NaN  0.93758                1  \n",
       "250998               NaN  0.03474                0  "
      ]
     },
     "execution_count": 10,
     "metadata": {},
     "output_type": "execute_result"
    }
   ],
   "source": [
    "election_sub = election_data[(election_data.forecast_type=='classic') & (election_data.forecast_date=='2018-08-11')]\n",
    "#election_sub = election_sub[(election_sub.forecast_date=='2010-8-11') & (election_sub.forecast_date=='2018-8-11')]\n",
    "#election_sub = election_sub[(election_sub.forecast_date=='2010-11-6') & (election_sub.forecast_date=='2018-11-6')]\n",
    "election_sub.head()"
   ]
  },
  {
   "cell_type": "markdown",
   "metadata": {},
   "source": [
    "### Question 2\n",
    "\n",
    "We want to check whether events predicted by 538 to occur with probability _close to_ X% actually occured about X% of the time.  To do this, we have to define _close_.  First, we'll define the `cut_points` as 20 equally spaced numbers between 0 and 1 using `np.linspace`.  Then we'll group the predicted probabilities into the `19` equally spaced bins determined by those cut points.  Define the bin for each observation using the `pd.cut` function on the `probwin` variable.  We'll assign the result to a new column of `election_sub` called `bin`."
   ]
  },
  {
   "cell_type": "markdown",
   "metadata": {
    "deletable": false,
    "editable": false
   },
   "source": [
    "<!--\n",
    "BEGIN QUESTION\n",
    "name: q2\n",
    "manual: false\n",
    "points: 2\n",
    "-->"
   ]
  },
  {
   "cell_type": "code",
   "execution_count": 11,
   "metadata": {
    "ExecuteTime": {
     "end_time": "2019-08-23T08:45:43.159677Z",
     "start_time": "2019-08-23T08:45:43.118509Z"
    }
   },
   "outputs": [
    {
     "name": "stderr",
     "output_type": "stream",
     "text": [
      "/anaconda2/lib/python2.7/site-packages/ipykernel_launcher.py:2: UserWarning: Pandas doesn't allow columns to be created via a new attribute name - see https://pandas.pydata.org/pandas-docs/stable/indexing.html#attribute-access\n",
      "  \n"
     ]
    }
   ],
   "source": [
    "cut_points = np.linspace(0, 1, 20)\n",
    "election_sub.bin = pd.cut(election_data.probwin, cut_points, include_lowest=True)"
   ]
  },
  {
   "cell_type": "markdown",
   "metadata": {},
   "source": [
    "### Question 3\n",
    "\n",
    "Now we've grouped the observations into a discrete set of bins according to the predicted probability, `probwin`.  Within each bin, we now want to compute the actual fraction of times the candidates won. If 538 did a good job, it will be close to the predited probabilities.   You'll need to use the `groupby` function to compute the mean of `probwin_outcome` (1 is a win and 0 is a loss) within each bin.  Save the fraction of actual wins in each bin in a list called `fraction_outcome`."
   ]
  },
  {
   "cell_type": "markdown",
   "metadata": {
    "deletable": false,
    "editable": false
   },
   "source": [
    "<!--\n",
    "BEGIN QUESTION\n",
    "name: q3\n",
    "manual: false\n",
    "points: 2\n",
    "-->"
   ]
  },
  {
   "cell_type": "code",
   "execution_count": 12,
   "metadata": {
    "ExecuteTime": {
     "end_time": "2019-08-23T08:30:26.821961Z",
     "start_time": "2019-08-23T08:30:26.795672Z"
    }
   },
   "outputs": [],
   "source": [
    "fraction_outcome = election_data.probwin_outcome.groupby(election_sub.bin).mean()"
   ]
  },
  {
   "cell_type": "markdown",
   "metadata": {},
   "source": [
    "### Question 4\n",
    "\n",
    "For this problem we'll make a plot of the predicted probabilities and actual fraction of wins in each bin.  We've already computed the actual fraction of wins; all that remains is to plot it against the predicted value assocaited with each bin.  For the predicted value in each bin, we'll use the midpoint of the bin.  Compute the midpoints of each bin from `cut_points`."
   ]
  },
  {
   "cell_type": "markdown",
   "metadata": {
    "deletable": false,
    "editable": false
   },
   "source": [
    "<!--\n",
    "BEGIN QUESTION\n",
    "name: q4\n",
    "manual: false\n",
    "points: 2\n",
    "-->"
   ]
  },
  {
   "cell_type": "code",
   "execution_count": 6,
   "metadata": {
    "ExecuteTime": {
     "end_time": "2019-08-23T08:29:27.08245Z",
     "start_time": "2019-08-23T08:29:27.072035Z"
    }
   },
   "outputs": [
    {
     "data": {
      "text/plain": [
       "[0.02631578947368421,\n",
       " 0.07894736842105263,\n",
       " 0.13157894736842105,\n",
       " 0.18421052631578946,\n",
       " 0.23684210526315788,\n",
       " 0.2894736842105263,\n",
       " 0.3421052631578947,\n",
       " 0.39473684210526316,\n",
       " 0.4473684210526315,\n",
       " 0.5,\n",
       " 0.5526315789473684,\n",
       " 0.6052631578947368,\n",
       " 0.6578947368421052,\n",
       " 0.7105263157894737,\n",
       " 0.763157894736842,\n",
       " 0.8157894736842105,\n",
       " 0.8684210526315789,\n",
       " 0.9210526315789473,\n",
       " 0.9736842105263157]"
      ]
     },
     "execution_count": 6,
     "metadata": {},
     "output_type": "execute_result"
    }
   ],
   "source": [
    "midpoints = [(cut_points[i]+cut_points[i+1])/2 for i in range(19)]\n",
    "list(midpoints)"
   ]
  },
  {
   "cell_type": "markdown",
   "metadata": {},
   "source": [
    "Now make a scatterplot using `midpoints` as the x variable and `fraction_outcome` as the y variable.  Draw a dashed line from `[0,0]` to `[1,1]` to mark the line y=x.  "
   ]
  },
  {
   "cell_type": "code",
   "execution_count": 13,
   "metadata": {
    "ExecuteTime": {
     "end_time": "2019-08-23T08:42:02.905779Z",
     "start_time": "2019-08-23T08:42:02.616115Z"
    }
   },
   "outputs": [
    {
     "data": {
      "image/png": "[encoded data removed]",
      "text/plain": [
       "<Figure size 432x288 with 1 Axes>"
      ]
     },
     "metadata": {
      "needs_background": "light"
     },
     "output_type": "display_data"
    }
   ],
   "source": [
    "%matplotlib inline\n",
    "import matplotlib.pyplot as plt\n",
    "\n",
    "plt.scatter(midpoints, fraction_outcome)\n",
    "plt.plot(midpoints, midpoints, 'r')\n",
    "plt.show()"
   ]
  },
  {
   "cell_type": "markdown",
   "metadata": {},
   "source": [
    "### Question 5: adding error bars\n",
    "\n",
    "If you did things correctly, it should look like fivethirtyeight has done \"pretty\" well with their forecasts: the actual fraction of wins tracks closely with the predicted number.  But how do we decide what's \"good enough\"? Consider this example: I correctly predict that a coin is fair (e.g. that it has a 50% chance of heads, 50% chance of tails).  But if I flip it 100 times, I can be pretty sure it won't come up heads exactly 50 times.  The fact that it didn't come up heads exactly 50 times doesn't make my prediction incorrect.\n",
    "\n",
    "To assess how reasonable the predictions are, I need to quantify the uncertainty in my estimate.  It's reasonable to assume that within each bin, $k$, the observed number of wins, $Y_k \\sim Bin(n_k, p_k)$, where $n_k$ is the number of elections and $p_k$ is the predicted win probability in bin $k$.\n",
    "\n",
    "Classical results tell us that the obseved fraction of wins in bin $k$, $\\hat p = \\frac{Y_k}{n_k}$ has variance Var$\\left(\\hat p_k\\right) = \\frac{p_k (1-p_k)}{n_k} \\approx \\frac{\\hat p_k(1- \\hat p_k)}{n_k}$.  The standard deviation of the Binomial proportion then is $\\hat \\sigma_k \\approx \\sqrt{\\frac{\\hat p_k(1- \\hat p_k)}{n_k}}$.  \n",
    "\n",
    "If we use the [normal approximation to generate a confidence interval](https://en.wikipedia.org/wiki/Binomial_proportion_confidence_interval#Normal_approximation_interval), then the 95% interval has the form $\\hat p_k \\pm 1.96 \\hat \\sigma_k$.\n"
   ]
  },
  {
   "cell_type": "markdown",
   "metadata": {},
   "source": [
    "Create a new \"aggregated\" dataframe.  This time, group `election_sub` by the `bin` and compute both the average of the `probwin_outcome` (`mean`) and the number of observations in each bin (`count`) using the `agg` function.  Call this new data frame, `election_agg`."
   ]
  },
  {
   "cell_type": "code",
   "execution_count": null,
   "metadata": {
    "ExecuteTime": {
     "end_time": "2019-08-23T08:50:41.220099Z",
     "start_time": "2019-08-23T08:50:41.132307Z"
    }
   },
   "outputs": [],
   "source": [
    "election_sub.bin = pd.cut(election_data.probwin, cut_points, include_lowest=True)\n",
    "election_agg = pd.DataFrame()\n",
    "election_agg.mean = election_data.probwin_outcome.groupby(election_sub.bin).mean()\n",
    "election_agg.count = election_data.probwin_outcome.groupby(election_sub.bin).count()"
   ]
  },
  {
   "cell_type": "markdown",
   "metadata": {},
   "source": [
    "Use the `mean` and `count` columns of `election_agg` to create a new column of `election_agg` titled `err`, which stores $1.96 \\times \\hat \\sigma_k$ in each bin $k$."
   ]
  },
  {
   "cell_type": "code",
   "execution_count": null,
   "metadata": {
    "ExecuteTime": {
     "end_time": "2019-08-23T08:53:58.246866Z",
     "start_time": "2019-08-23T08:53:58.238904Z"
    },
    "scrolled": true
   },
   "outputs": [],
   "source": [
    "import math\n",
    "election_agg.err = [1.96*math.sqrt(m*(1-m)/n) for m,n in zip(election_agg.mean , election_agg.count)]"
   ]
  },
  {
   "cell_type": "markdown",
   "metadata": {},
   "source": [
    "Use `plt.errorbar` to create a new plot with error bars associated with the actual fraction of wins in each bin.  Again add a dashed y=x line.  Set the argument `fmt='.'` to create a scatterplot with errorbars."
   ]
  },
  {
   "cell_type": "code",
   "execution_count": null,
   "metadata": {
    "ExecuteTime": {
     "end_time": "2019-08-23T08:54:04.452007Z",
     "start_time": "2019-08-23T08:54:04.215909Z"
    }
   },
   "outputs": [],
   "source": [
    "#plt.errorbar(midpoints, election_agg['mean'].values, yerr=election_agg['err'].values, fmt='.')\n",
    "#plt.plot([0, 1], [0, 1], '--')\n",
    "\n",
    "plt.errorbar(midpoints, election_agg.mean, yerr=election_agg.err, fmt='.')\n",
    "plt.plot(midpoints, midpoints, 'r')\n",
    "plt.show()"
   ]
  },
  {
   "cell_type": "markdown",
   "metadata": {},
   "source": [
    "### Question 6: computing the coverage\n",
    "\n",
    "If our intervals were true 95% confidence intervals, then we would expect about 95% of them to cover the midpoint of the bin (i.e. overlap with the y=x line).  What fraction of the 95% confidence intervals cover the bin midpoint?  Create a list called `upper` to be the `mean` + `err` and another `lower` to be `mean` - `err`.  Next, compute `frac_covering` as the fraction of midpoints between `lower` and `upper`. "
   ]
  },
  {
   "cell_type": "markdown",
   "metadata": {
    "deletable": false,
    "editable": false
   },
   "source": [
    "<!--\n",
    "BEGIN QUESTION\n",
    "name: q6\n",
    "manual: false\n",
    "points: 2\n",
    "-->"
   ]
  },
  {
   "cell_type": "code",
   "execution_count": null,
   "metadata": {
    "ExecuteTime": {
     "end_time": "2019-08-23T08:59:21.899535Z",
     "start_time": "2019-08-23T08:59:21.89011Z"
    }
   },
   "outputs": [],
   "source": [
    "upper = [m+e for m,e in zip(election_agg.mean, election_agg.err)]\n",
    "lower = [m-e for m,e in zip(election_agg.mean, election_agg.err)]\n",
    "\n",
    "frac_covering = sum([1 if u>m>=l else 0 for m,u,l in zip(midpoints, upper, lower)])/len(upper)"
   ]
  },
  {
   "cell_type": "markdown",
   "metadata": {},
   "source": [
    "### Question 7: understanding confidence intervals\n",
    "\n",
    "Are the 95% confidence intervals generally larger or smaller for more confident predictions (e.g. the predictions closer to 0 or 1).  What are the factors that determine the length of the confidence intervals?"
   ]
  },
  {
   "cell_type": "markdown",
   "metadata": {},
   "source": [
    "*Write your answer here, replacing this text.*\n",
    "according to the definition formula of the standard deviance, the sample size and the estimated probability of interest are the factors, the former is negatively correlated with the width of the interval, while the latter is positively correlated."
   ]
  },
  {
   "cell_type": "markdown",
   "metadata": {},
   "source": [
    "### Question 8: finding the candidate that had the biggest change in support\n",
    "\n",
    "Let's see if we can find the candidate that seemed to improve their standing the most between  August 11 and November 6.  First, fill in the function `abs_diff`, which takes in a pandas data frame and computes the difference between the largest values of `probwin` and the smallest value.  \n",
    "\n"
   ]
  },
  {
   "cell_type": "code",
   "execution_count": null,
   "metadata": {
    "ExecuteTime": {
     "end_time": "2019-08-23T09:07:59.889797Z",
     "start_time": "2019-08-23T09:07:59.882853Z"
    }
   },
   "outputs": [],
   "source": [
    "# Input: a pandas dataframe with a numeric column named `probwin`\n",
    "# Output: a pandas dataframe with the same columns, with an additional column named `absdiff`\n",
    "def abs_diff(x):\n",
    "    \n",
    "    return max(x.probwin)-min(x.probwin)"
   ]
  },
  {
   "cell_type": "markdown",
   "metadata": {},
   "source": [
    "We can use this function to compute the difference between the maximum and minimum predicted with probabilities for every candidate.  To do so, group `election_sub` by `candidate` and `apply` the function `abs_diff`.  Find the index of the largest difference in `diff_dataframe` and store it in `max_idx`.  Do this using `np.nanargmax` function.  This function finds the _index_ of the largest value, ignoring any missing values (`nans`). "
   ]
  },
  {
   "cell_type": "code",
   "execution_count": null,
   "metadata": {
    "ExecuteTime": {
     "end_time": "2019-08-23T09:08:02.616193Z",
     "start_time": "2019-08-23T09:08:02.247666Z"
    }
   },
   "outputs": [],
   "source": [
    "diff_dataframe = election_sub.groupby(election_sub.candidate).apply(abs_diff)\n",
    "max_idx = np.nanargmax(diff_dataframe)"
   ]
  },
  {
   "cell_type": "markdown",
   "metadata": {
    "deletable": false,
    "editable": false
   },
   "source": [
    "<!--\n",
    "BEGIN QUESTION\n",
    "name: q8\n",
    "manual: false\n",
    "points: 2\n",
    "-->"
   ]
  },
  {
   "cell_type": "code",
   "execution_count": null,
   "metadata": {
    "ExecuteTime": {
     "end_time": "2019-08-23T09:08:04.112895Z",
     "start_time": "2019-08-23T09:08:04.106445Z"
    }
   },
   "outputs": [],
   "source": [
    "candidate = election_data.candidate[max_idx]"
   ]
  },
  {
   "cell_type": "markdown",
   "metadata": {},
   "source": [
    "Did the candidate win or lose the election?"
   ]
  },
  {
   "cell_type": "markdown",
   "metadata": {},
   "source": [
    "*Write your answer here, replacing this text.*\n",
    "\n",
    "'Jason Nichols'"
   ]
  },
  {
   "cell_type": "markdown",
   "metadata": {},
   "source": [
    "### Question 9: plot predictions over time"
   ]
  },
  {
   "cell_type": "markdown",
   "metadata": {},
   "source": [
    "Plot the forecasted win probability for the candidate you found above, for every available date.  For this you'll need to return to working with the full `election_data`, not `election_sub`.  Don't forget, you should still filter to `classic` forecasts only.  First, create an array of `predicted_probs` for the candidate at every date.  Also save the date in an array called `forecast_date`.  When creating `forecast_date`, use `pd.to_datetime` to convert a `str` datatype to the date format that can easily be plotted."
   ]
  },
  {
   "cell_type": "markdown",
   "metadata": {
    "deletable": false,
    "editable": false
   },
   "source": [
    "<!--\n",
    "BEGIN QUESTION\n",
    "name: q9\n",
    "manual: false\n",
    "points: 2\n",
    "-->"
   ]
  },
  {
   "cell_type": "code",
   "execution_count": null,
   "metadata": {
    "ExecuteTime": {
     "end_time": "2019-08-23T09:23:39.170879Z",
     "start_time": "2019-08-23T09:23:39.064699Z"
    }
   },
   "outputs": [],
   "source": [
    "predicted_probs = election_data[(election_data.forecast_type=='classic') & (election_data.candidate=='Jason Nichols')]\n",
    "\n",
    "forecast_date = pd.to_datetime(predicted_probs.forecast_date)\n",
    "\n",
    "predicted_probs = predicted_probs.probwin_outcome.groupby(forecast_date).mean()"
   ]
  },
  {
   "cell_type": "code",
   "execution_count": null,
   "metadata": {
    "editable": false
   },
   "outputs": [],
   "source": [
    "ok.grade(\"q9\");"
   ]
  },
  {
   "cell_type": "markdown",
   "metadata": {},
   "source": [
    "Now create a lineplot with forecast date on the x-axis and the predicted win probability on the y-axis."
   ]
  },
  {
   "cell_type": "code",
   "execution_count": null,
   "metadata": {
    "ExecuteTime": {
     "end_time": "2019-08-23T09:23:41.786779Z",
     "start_time": "2019-08-23T09:23:41.360715Z"
    }
   },
   "outputs": [],
   "source": [
    "plt.plot(forecast_date, predicted_probs)"
   ]
  },
  {
   "cell_type": "markdown",
   "metadata": {},
   "source": [
    "### Question 10: prediction histograms\n",
    "\n",
    "Make a histogram showing the predicted win probabilities on the morning of the election.  Again, restrict yourself to only the `classic` predictions."
   ]
  },
  {
   "cell_type": "code",
   "execution_count": null,
   "metadata": {},
   "outputs": [],
   "source": [
    "## 'on the morning'??? unclear about this statement\n",
    "plt.hist()"
   ]
  },
  {
   "cell_type": "markdown",
   "metadata": {},
   "source": [
    "Are most house elections easy to forecast or hard to forecast?"
   ]
  },
  {
   "cell_type": "markdown",
   "metadata": {},
   "source": [
    "*Write your answer here, replacing this text.*"
   ]
  },
  {
   "cell_type": "markdown",
   "metadata": {},
   "source": [
    "### Question 11: Comparing election and baseball predictions\n",
    "\n",
    "Fivethirtyeight also builds predictive models for sporting events.  The following code will down a csv file containg their predictions for who would win every major league baseball game over the past two years."
   ]
  },
  {
   "cell_type": "code",
   "execution_count": null,
   "metadata": {},
   "outputs": [],
   "source": [
    "!wget -nc https://raw.githubusercontent.com/fivethirtyeight/checking-our-work-data/master/mlb_games.csv    "
   ]
  },
  {
   "cell_type": "markdown",
   "metadata": {},
   "source": [
    "Create a pandas dataframe from the csv and print the first 10 rows."
   ]
  },
  {
   "cell_type": "code",
   "execution_count": null,
   "metadata": {},
   "outputs": [],
   "source": [
    "..."
   ]
  },
  {
   "cell_type": "markdown",
   "metadata": {},
   "source": [
    "In this dataframe `prob1` is the predicted win probability for `team1`.  Make a histogram of `prob1`.  Set the limits of the x-axis to `[0, 1]`"
   ]
  },
  {
   "cell_type": "code",
   "execution_count": null,
   "metadata": {
    "scrolled": true
   },
   "outputs": [],
   "source": [
    "..."
   ]
  },
  {
   "cell_type": "markdown",
   "metadata": {},
   "source": [
    "### Question 12\n",
    "\n",
    "Find the most \"surprising\" baseball game outcome.  To do so, select all of the entries for which `prob1_outcome` is 1 (i.e. `team1` won the game), and then look for the index of the row containing the smallest value of `prob1`.  This will correspond to the game that was most suprising according to fivethirtyeights predictions. Find and print the row corresponding to this most surprising outcome."
   ]
  },
  {
   "cell_type": "code",
   "execution_count": null,
   "metadata": {},
   "outputs": [],
   "source": [
    "..."
   ]
  },
  {
   "cell_type": "markdown",
   "metadata": {},
   "source": [
    "### Question 13\n",
    "Are the outcomes of baseball games generally easier or harder to predict than the outcomes of political elections?  In a few sentences, comment on why this might be the case.  What data is available for these predictions? What factors affect the outcomes of elections and baseball games? What makes an event like an election or a baseballgame \"random\"?"
   ]
  },
  {
   "cell_type": "markdown",
   "metadata": {},
   "source": [
    "*Write your answer here, replacing this text.*"
   ]
  },
  {
   "cell_type": "code",
   "execution_count": null,
   "metadata": {},
   "outputs": [],
   "source": []
  },
  {
   "cell_type": "markdown",
   "metadata": {
    "deletable": false,
    "editable": false
   },
   "source": [
    "# Submit\n",
    "Make sure you have run all cells in your notebook in order before running the cell below, so that all images/graphs appear in the output.\n",
    "**Please save before submitting!**"
   ]
  },
  {
   "cell_type": "code",
   "execution_count": null,
   "metadata": {
    "deletable": false,
    "editable": false
   },
   "outputs": [],
   "source": [
    "# Save your notebook first, then run this cell to submit.\n",
    "ok.submit()"
   ]
  }
 ],
 "metadata": {
  "anaconda-cloud": {},
  "celltoolbar": "Edit Metadata",
  "kernelspec": {
   "display_name": "Python 3",
   "language": "python",
   "name": "python3"
  },
  "language_info": {
   "codemirror_mode": {
    "name": "ipython",
    "version": 3
   },
   "file_extension": ".py",
   "mimetype": "text/x-python",
   "name": "python",
   "nbconvert_exporter": "python",
   "pygments_lexer": "ipython3",
   "version": "3.7.2"
  },
  "toc": {
   "base_numbering": 1,
   "nav_menu": {},
   "number_sections": true,
   "sideBar": true,
   "skip_h1_title": false,
   "title_cell": "Table of Contents",
   "title_sidebar": "Contents",
   "toc_cell": false,
   "toc_position": {},
   "toc_section_display": true,
   "toc_window_display": false
  },
  "varInspector": {
   "cols": {
    "lenName": 16,
    "lenType": 16,
    "lenVar": 40
   },
   "kernels_config": {
    "python": {
     "delete_cmd_postfix": "",
     "delete_cmd_prefix": "del ",
     "library": "var_list.py",
     "varRefreshCmd": "print(var_dic_list())"
    },
    "r": {
     "delete_cmd_postfix": ") ",
     "delete_cmd_prefix": "rm(",
     "library": "var_list.r",
     "varRefreshCmd": "cat(var_dic_list()) "
    }
   },
   "types_to_exclude": [
    "module",
    "function",
    "builtin_function_or_method",
    "instance",
    "_Feature"
   ],
   "window_display": false
  }
 },
 "nbformat": 4,
 "nbformat_minor": 2
}
