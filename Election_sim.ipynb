{
 "cells": [
  {
   "cell_type": "markdown",
   "metadata": {},
   "source": [
    "![election_prediction](http://donsnotes.com/politics/images/clinton-trump-rating.png)"
   ]
  },
  {
   "cell_type": "markdown",
   "metadata": {},
   "source": [
    "# What makes a good prediction?\n",
    " We will evaluate the quality of election predictions made by the website [fivethirtyeight.com](https://www.fivethirtyeight.com).  As one prominent example, fivethirtyeight predicted that Clinton had a 70.9% chance to win the election.  Was their model wrong?\n",
    "\n",
    "To gain insight into questions like this, we'll focus on  [US House elections predictions from 2018](https://projects.fivethirtyeight.com/2018-midterm-election-forecast/house/).  Their predictions are based predominantly on polling data but include other sources as well (state of the economy, overall favoriability of politic parties, etc).  \n",
    "\n",
    "To play with this data, we will use this tool called a Jupyter Notebook. That's what you are reading this text in right now. This is a piece of software that lets us display both text and computer code and we can run the computer code and generate output. It's like a magic notebook -- just like something you would see in Harry Potter -- except in this case, the magic is really just computer code written in the language Python.\n",
    "\n",
    "We will step through the notebook, and I will have you run individual \"cells\" in this notebook. Each cell has some code that makes something happen. It could be loading up some data, performing calulations, or generating visual output that we can use to explore the data. \n",
    "\n",
    "We will staet with some set up code in the first cell... This code loads the data on the US House elections from the FiveThirtyeight Web site. \n"
   ]
  },
  {
   "cell_type": "code",
   "execution_count": null,
   "metadata": {
    "ExecuteTime": {
     "end_time": "2019-08-23T08:18:58.439387Z",
     "start_time": "2019-08-23T08:18:55.250604Z"
    }
   },
   "outputs": [],
   "source": [
    "import pandas as pd ## call pandas functions using \"pd\"\n",
    "import numpy as np  ## call numpy functions using \"np\"\n",
    "election_data = pd.read_csv(\"us_house_elections.csv\", low_memory = False)\n",
    "\n",
    "election_data.describe()"
   ]
  },
  {
   "cell_type": "markdown",
   "metadata": {},
   "source": [
    "## Examining the Data\n",
    "\n",
    "Display the first 10 rows of the dataset using `iloc`."
   ]
  },
  {
   "cell_type": "code",
   "execution_count": null,
   "metadata": {
    "ExecuteTime": {
     "end_time": "2019-08-23T08:18:59.106508Z",
     "start_time": "2019-08-23T08:18:59.054924Z"
    }
   },
   "outputs": [],
   "source": [
    "rows=election_data.iloc[0:10]\n",
    "rows\n"
   ]
  },
  {
   "cell_type": "markdown",
   "metadata": {},
   "source": [
    "Fivethirtyeight has three different prediction models: `lite`, `classic` and `deluxe`, which roughly incorporate an increasing number of assumptions.  In this assignment lets focus on evaluting the quality of the `classic` predictions.  You can read more about how the prediction models work [here](https://fivethirtyeight.com/methodology/how-fivethirtyeights-house-and-senate-models-work/).\n",
    "\n",
    "Fivethirtyeight continuously updated their predictions as more polling data became available for each of the races.  Let's focus on the predictions a few months before the election, on August 11th, and on the morning of election day, November 6th.  \n",
    "\n",
    "### Grabbing a subset of the data\n",
    "\n",
    "We will create a new dataframe ( a fancy word for a data table) `election_sub` by filtering to include only rows in which the `forecast_type` is \"classic\", and the date of the foreceast (`forecast_date`) is 8/11 or 11/6."
   ]
  },
  {
   "cell_type": "code",
   "execution_count": null,
   "metadata": {
    "ExecuteTime": {
     "end_time": "2019-08-23T08:19:36.673489Z",
     "start_time": "2019-08-23T08:19:36.540559Z"
    }
   },
   "outputs": [],
   "source": [
    "election_sub = election_data[(election_data.forecast_type=='classic') & ((election_data.forecast_date=='2018-08-11') | (election_data.forecast_date=='2018-11-06')) ]\n",
    "#election_sub = election_sub[(election_sub.forecast_date=='2010-8-11') & (election_sub.forecast_date=='2018-8-11')]\n",
    "#election_sub = election_sub[(election_sub.forecast_date=='2010-11-6') & (election_sub.forecast_date=='2018-11-6')]\n",
    "\n",
    "election_sub.head()"
   ]
  },
  {
   "cell_type": "markdown",
   "metadata": {},
   "source": [
    "### Putting our predictions into different piles\n",
    "\n",
    "We want to check whether events predicted by FiveThirtyEight to occur with probability _close to_ X% actually occured about X% of the time.  To do this, we have to define _close_.  We are going to take that space between 0% and 100% and divide it into 19 equally spaced bins and are going to group the predicted probabilities into those bins (e.g. 0 - 4%, 5% - 10%, 10 - 14%, etc.) "
   ]
  },
  {
   "cell_type": "code",
   "execution_count": null,
   "metadata": {
    "ExecuteTime": {
     "end_time": "2019-08-23T08:45:43.159677Z",
     "start_time": "2019-08-23T08:45:43.118509Z"
    }
   },
   "outputs": [],
   "source": [
    "cut_points = np.linspace(0, 1, 20)\n",
    "election_sub.bin = pd.cut(election_data.probwin, cut_points, include_lowest=True)"
   ]
  },
  {
   "cell_type": "markdown",
   "metadata": {},
   "source": [
    "### comparing actual wins to predicted wins in each pile\n",
    "\n",
    "Now we've grouped the observations into a discrete set of bins according to the predicted probability, `probwin`.  Within each bin, we now want to compute the actual fraction of times the candidates won. If 538 did a good job, it will be close to the predited probabilities.   You'll need to use the `groupby` function to compute the mean of `probwin_outcome` (1 is a win and 0 is a loss) within each bin.  Save the fraction of actual wins in each bin in a list called `fraction_outcome`."
   ]
  },
  {
   "cell_type": "code",
   "execution_count": null,
   "metadata": {
    "ExecuteTime": {
     "end_time": "2019-08-23T08:30:26.821961Z",
     "start_time": "2019-08-23T08:30:26.795672Z"
    }
   },
   "outputs": [],
   "source": [
    "fraction_outcome = election_data.probwin_outcome.groupby(election_sub.bin).mean()\n",
    "fraction_outcome *= 100"
   ]
  },
  {
   "cell_type": "markdown",
   "metadata": {},
   "source": [
    "### Plotting the results\n",
    "\n",
    "Now we want to make a plot of the predicted probabilities and actual fraction of wins in each bin.  We've already computed the actual fraction of wins; all that remains is to plot it against the predicted value assocaited with each bin.  For the predicted value in each bin, we'll use the midpoint of the bin.  We are first going to set up some numbers to help produce out plots (values for the midpoint of each bin or pile)"
   ]
  },
  {
   "cell_type": "code",
   "execution_count": null,
   "metadata": {
    "ExecuteTime": {
     "end_time": "2019-08-23T08:29:27.08245Z",
     "start_time": "2019-08-23T08:29:27.072035Z"
    }
   },
   "outputs": [],
   "source": [
    "midpoints = [100*(cut_points[i]+cut_points[i+1])/2 for i in range(19)]\n",
    "list(midpoints)"
   ]
  },
  {
   "cell_type": "markdown",
   "metadata": {},
   "source": [
    "Now make a scatterplot using `midpoints` as the x variable and `fraction_outcome` as the y variable.  Draw a dashed line from `[0,0]` to `[1,1]` to mark the line y=x.  "
   ]
  },
  {
   "cell_type": "code",
   "execution_count": null,
   "metadata": {
    "ExecuteTime": {
     "end_time": "2019-08-23T08:42:02.905779Z",
     "start_time": "2019-08-23T08:42:02.616115Z"
    }
   },
   "outputs": [],
   "source": [
    "%matplotlib inline\n",
    "import matplotlib.pyplot as plt\n",
    "\n",
    "plt.scatter(midpoints, fraction_outcome)\n",
    "plt.plot(midpoints, midpoints, 'r')\n",
    "plt.xlabel('Chance of winning predicted by 538')\n",
    "plt.ylabel('% of Actual Wins')\n",
    "plt.title('All House Elections in 2018')\n",
    "plt.show()"
   ]
  },
  {
   "cell_type": "markdown",
   "metadata": {},
   "source": [
    "## How did FiveThirtyEight do? \n",
    "\n",
    "What does this tell us about how FiveThirtyEight has done overall with their forecasts. By looking at a larger number of contests -- many U.S. House races, rather than one presidential contest -- we can see that the actualy fraction of wins tracks closely with the predicted number of wins. When we flip a coin we know that there is a 50% chance of heads and a 50% chance of tails. However, if we only flip one time, there is a 100% chance it will be what it is on that one flip! Even if I flip it 100 times, it probably won't come up heads exactly 50 times, but it will be closer.  The fact that it didn't come up heads exactly 50 times doesn't make my prediction incorrect. The more times I flip, the closer it will get to the actual predicted number. So, yes, on individual elections, an outcome with a high probability of happening may NOT actually happen... but this doesn't mean that forecasts are wrong. We have to look at as much data as we can -- and understand probability. Two things you learn about in data science! \n",
    "\n"
   ]
  },
  {
   "cell_type": "code",
   "execution_count": null,
   "metadata": {},
   "outputs": [],
   "source": []
  }
 ],
 "metadata": {
  "anaconda-cloud": {},
  "celltoolbar": "Edit Metadata",
  "kernelspec": {
   "display_name": "Python 3",
   "language": "python",
   "name": "python3"
  },
  "language_info": {
   "codemirror_mode": {
    "name": "ipython",
    "version": 3
   },
   "file_extension": ".py",
   "mimetype": "text/x-python",
   "name": "python",
   "nbconvert_exporter": "python",
   "pygments_lexer": "ipython3",
   "version": "3.7.2"
  },
  "toc": {
   "base_numbering": 1,
   "nav_menu": {},
   "number_sections": true,
   "sideBar": true,
   "skip_h1_title": false,
   "title_cell": "Table of Contents",
   "title_sidebar": "Contents",
   "toc_cell": false,
   "toc_position": {},
   "toc_section_display": true,
   "toc_window_display": false
  },
  "varInspector": {
   "cols": {
    "lenName": 16,
    "lenType": 16,
    "lenVar": 40
   },
   "kernels_config": {
    "python": {
     "delete_cmd_postfix": "",
     "delete_cmd_prefix": "del ",
     "library": "var_list.py",
     "varRefreshCmd": "print(var_dic_list())"
    },
    "r": {
     "delete_cmd_postfix": ") ",
     "delete_cmd_prefix": "rm(",
     "library": "var_list.r",
     "varRefreshCmd": "cat(var_dic_list()) "
    }
   },
   "types_to_exclude": [
    "module",
    "function",
    "builtin_function_or_method",
    "instance",
    "_Feature"
   ],
   "window_display": false
  }
 },
 "nbformat": 4,
 "nbformat_minor": 2
}
